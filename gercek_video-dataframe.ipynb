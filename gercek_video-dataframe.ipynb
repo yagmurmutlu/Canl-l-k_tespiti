{
 "cells": [
  {
   "cell_type": "code",
   "execution_count": 1,
   "id": "3a7af3d9",
   "metadata": {},
   "outputs": [],
   "source": [
    "import cv2\n",
    "import mediapipe as mp\n",
    "import time\n",
    "import matplotlib.pyplot as plt\n",
    "import numpy as np\n",
    "import itertools\n",
    "import matplotlib.animation as animation\n",
    "from matplotlib import style\n",
    "from IPython.display import display, clear_output\n",
    "from scipy.signal import filtfilt, butter, lfilter, medfilt\n",
    "from matplotlib import pyplot as plt \n",
    "import math\n",
    "from scipy import stats"
   ]
  },
  {
   "cell_type": "code",
   "execution_count": 2,
   "id": "bf8fc951",
   "metadata": {},
   "outputs": [
    {
     "data": {
      "text/html": [
       "<div>\n",
       "<style scoped>\n",
       "    .dataframe tbody tr th:only-of-type {\n",
       "        vertical-align: middle;\n",
       "    }\n",
       "\n",
       "    .dataframe tbody tr th {\n",
       "        vertical-align: top;\n",
       "    }\n",
       "\n",
       "    .dataframe thead th {\n",
       "        text-align: right;\n",
       "    }\n",
       "</style>\n",
       "<table border=\"1\" class=\"dataframe\">\n",
       "  <thead>\n",
       "    <tr style=\"text-align: right;\">\n",
       "      <th></th>\n",
       "      <th>name</th>\n",
       "      <th>SNR</th>\n",
       "      <th>STD</th>\n",
       "      <th>powerSNR</th>\n",
       "      <th>powerSTD</th>\n",
       "      <th>dxSNR</th>\n",
       "      <th>dxSTD</th>\n",
       "      <th>isReal</th>\n",
       "    </tr>\n",
       "  </thead>\n",
       "  <tbody>\n",
       "  </tbody>\n",
       "</table>\n",
       "</div>"
      ],
      "text/plain": [
       "Empty DataFrame\n",
       "Columns: [name, SNR, STD, powerSNR, powerSTD, dxSNR, dxSTD, isReal]\n",
       "Index: []"
      ]
     },
     "execution_count": 2,
     "metadata": {},
     "output_type": "execute_result"
    }
   ],
   "source": [
    "import pandas as pd\n",
    "df = pd.DataFrame(columns=(\"name\", \"SNR\", \"STD\", \"powerSNR\", \"powerSTD\", \"dxSNR\", \"dxSTD\", \"isReal\"))\n",
    "df"
   ]
  },
  {
   "cell_type": "code",
   "execution_count": 3,
   "id": "410eaee6",
   "metadata": {},
   "outputs": [],
   "source": [
    "def polygon(image, coordinates, facial_landmarks):\n",
    "    height, width, _ = image.shape\n",
    "\n",
    "    area = []\n",
    "    for i in coordinates:\n",
    "        pt1 = facial_landmarks.landmark[i]\n",
    "        x = int(pt1.x * width)\n",
    "        y = int(pt1.y * height)\n",
    "        area.append([x,y])\n",
    "        #cv2.circle(image, (x, y), 2, (100, 100, 0), -1)\n",
    "        #cv2.putText(image, str(i), (x, y), 0, 0.5, (0, 0, 0))\n",
    "        \n",
    "    area = np.array(area)\n",
    "    area = area.reshape((-1, 1, 2))\n",
    "    #cv2.polylines(image,[area],True,(0,255,255))\n",
    "    \n",
    "    return area"
   ]
  },
  {
   "cell_type": "code",
   "execution_count": 4,
   "id": "e368d9dc",
   "metadata": {},
   "outputs": [],
   "source": [
    "def extract_roi(image, yanak_sag , yanak_sol, alin):\n",
    "    mask = np.zeros(image.shape[:2], dtype=\"uint8\")\n",
    "    cv2.drawContours(mask, [yanak_sag], -1, (255, 255, 255), -1, cv2.LINE_AA)\n",
    "    cv2.drawContours(mask, [yanak_sol], -1, (255, 255, 255), -1, cv2.LINE_AA)\n",
    "    cv2.drawContours(mask, [alin], -1, (255, 255, 255), -1, cv2.LINE_AA)\n",
    "\n",
    "    output = cv2.bitwise_and(image, image, mask=mask)\n",
    "    return output"
   ]
  },
  {
   "cell_type": "code",
   "execution_count": 5,
   "id": "a5861446",
   "metadata": {},
   "outputs": [],
   "source": [
    "def green(image, area):\n",
    "    mask_G = np.zeros(image.shape[:2], dtype=\"uint8\")\n",
    "    cv2.drawContours(mask_G, [area], -1, (255, 255, 255), -1, cv2.LINE_AA)\n",
    "    mean = cv2.mean(image[:,:,1], mask=mask_G)\n",
    "    #print(f\"{txt}= {mean}\")\n",
    "    return mean"
   ]
  },
  {
   "cell_type": "code",
   "execution_count": 6,
   "id": "305c55e3",
   "metadata": {},
   "outputs": [],
   "source": [
    "def update_signal(green_mean, green_arr, n_frames, hepsi):\n",
    "    \n",
    "    if len(green_arr) < n_frames:\n",
    "        green_arr.append(green_mean)\n",
    "    else:\n",
    "        del green_arr[0]\n",
    "        green_arr.append(green_mean)\n",
    "        \n",
    "    hepsi.append(green_mean)"
   ]
  },
  {
   "cell_type": "code",
   "execution_count": 7,
   "id": "11d04bc7",
   "metadata": {},
   "outputs": [],
   "source": [
    "def nabiz_bul(mean_list, fps, hz_bottom, hz_top):\n",
    "    sampling_rate = fps\n",
    "    raw_signal = np.squeeze(mean_list) \n",
    "    normalized_signal = raw_signal - np.mean(raw_signal)\n",
    "    normalized_signal = normalized_signal / np.std(normalized_signal)\n",
    "    med_signal = medfilt(normalized_signal, 5)\n",
    "    nyq = 0.5 * sampling_rate\n",
    "    low = hz_bottom / nyq\n",
    "    high = hz_top / nyq\n",
    "\n",
    "    b, a = butter(3, [low, high], btype = 'band')\n",
    "    filtered_signal = lfilter(b, a, med_signal)\n",
    "    window = np.hamming(len(filtered_signal))\n",
    "    windowed_signal = filtered_signal * window\n",
    "    def nextpow(x):\n",
    "        return 2 ** math.ceil(math.log2(x))\n",
    "\n",
    "    NFFT = nextpow(len(windowed_signal) * sampling_rate)\n",
    "    freqDomain = np.fft.fft(windowed_signal, NFFT)\n",
    "    conj = np.conjugate(freqDomain)\n",
    "\n",
    "    powerSpectrum = np.multiply(freqDomain, conj) / NFFT\n",
    "    powerSpectrum = np.real(powerSpectrum)\n",
    "\n",
    "    freqInterestL = hz_bottom\n",
    "    freqInterestH = hz_top\n",
    "\n",
    "    freqs = np.linspace(0, sampling_rate, NFFT)\n",
    "    fRange = list()\n",
    "\n",
    "    for i in range(len(freqs)):\n",
    "        if freqs[i] < freqInterestH and freqs[i] > freqInterestL:\n",
    "            fRange.append(i + 1)\n",
    "\n",
    "    HRange = list()\n",
    "    for i in range(len(fRange)):\n",
    "        idx = 60 * freqs[fRange[i]]\n",
    "        HRange.append(idx)\n",
    "    max_x = HRange[powerSpectrum[fRange].argmax()]\n",
    "    return max_x"
   ]
  },
  {
   "cell_type": "code",
   "execution_count": 146,
   "id": "6934c287",
   "metadata": {},
   "outputs": [],
   "source": [
    "name = \"Esra_11\""
   ]
  },
  {
   "cell_type": "code",
   "execution_count": 147,
   "id": "4757d0a0",
   "metadata": {},
   "outputs": [],
   "source": [
    "path = r\"C:\\Users\\ahmet\\OneDrive\\Masaüstü\\yüz videoları\\videolar\\esra\""
   ]
  },
  {
   "cell_type": "code",
   "execution_count": 148,
   "id": "0509d2b9",
   "metadata": {},
   "outputs": [],
   "source": [
    "path += \"\\\\\" + name + \".mp4\""
   ]
  },
  {
   "cell_type": "code",
   "execution_count": 149,
   "id": "1e6d1bb3",
   "metadata": {},
   "outputs": [],
   "source": [
    "\n",
    "hepsi = []\n",
    "def start_video():\n",
    "    cap = cv2.VideoCapture(path)\n",
    "    global fps\n",
    "    (major_ver, minor_ver, subminor_ver) = (cv2.__version__).split('.')\n",
    "    if int(major_ver)  < 3 :\n",
    "        fps = cap.get(cv2.cv.CV_CAP_PROP_FPS)\n",
    "    else :\n",
    "        fps = cap.get(cv2.CAP_PROP_FPS)\n",
    "    \n",
    "\n",
    "    font = cv2.FONT_HERSHEY_SIMPLEX \n",
    "\n",
    "    # Face Mesh\n",
    "    mp_face_mesh = mp.solutions.face_mesh\n",
    "    face_mesh = mp_face_mesh.FaceMesh()\n",
    "\n",
    "    green_arr = []\n",
    "    nabiz = []\n",
    "    \n",
    "    start = time.time()\n",
    "    \n",
    "    ctr = 0\n",
    "    while True:\n",
    "        ret, image = cap.read()\n",
    "        if ret is not True:\n",
    "            break\n",
    "\n",
    "\n",
    "        rgb_image = cv2.cvtColor(image, cv2.COLOR_BGR2RGB)\n",
    "        # Facial landmarks\n",
    "        result = face_mesh.process(rgb_image)\n",
    "        \n",
    "        try:\n",
    "\n",
    "            for facial_landmarks in result.multi_face_landmarks:\n",
    "                yanak_sol_arr = [143, 123, 147, 213, 138, 135, 210, 202, 57, 92, 36, 101, 118, 31, 143]\n",
    "                yanak_sol = polygon(image, yanak_sol_arr, facial_landmarks)\n",
    "\n",
    "            for facial_landmarks in result.multi_face_landmarks:\n",
    "\n",
    "                yanak_sag_arr = [372, 352, 376, 433, 367, 364, 430, 422, 287, 322, 266, 330, 347, 261, 372]\n",
    "                yanak_sag = polygon(image, yanak_sag_arr, facial_landmarks)\n",
    "\n",
    "            for facial_landmarks in result.multi_face_landmarks:\n",
    "\n",
    "                alin_arr = [54, 103, 67, 109, 10, 338, 297, 332, 284, 298, 296, 9, 66, 68,]\n",
    "                alin = polygon(image, alin_arr, facial_landmarks)\n",
    "\n",
    "            image = extract_roi(image, yanak_sag , yanak_sol, alin)\n",
    "            mean_yanak_sag = green(image, yanak_sag)[0]\n",
    "            mean_yanak_sol = green(image, yanak_sol)[0]\n",
    "            mean_alin = green(image, alin)[0]\n",
    "            \n",
    "            mean_raw = (mean_yanak_sag + mean_yanak_sol + mean_alin)/3\n",
    "            update_signal(mean_raw, green_arr, n_frames=fps*10, hepsi=hepsi)\n",
    "                  \n",
    "        except:\n",
    "            text = \"No Face Detected\"\n",
    "            coordinates = (128,128)\n",
    "            fontScale = 1\n",
    "            color = (255,0,255)\n",
    "            thickness = 2\n",
    "            blank = np.zeros(image.shape[:2], dtype=\"uint8\")\n",
    "            image = cv2.putText(blank, text, coordinates, font, fontScale, color, thickness, cv2.LINE_AA)\n",
    "\n",
    "        cv2.imshow(path, image)\n",
    "        ctr += 1\n",
    "        if cv2.waitKey(1) == ord(\"q\"):\n",
    "            break   \n",
    "\n",
    "    cap.release()\n",
    "    cv2.destroyAllWindows()"
   ]
  },
  {
   "cell_type": "code",
   "execution_count": 150,
   "id": "32b6da30",
   "metadata": {},
   "outputs": [],
   "source": [
    "start_video()"
   ]
  },
  {
   "cell_type": "code",
   "execution_count": 151,
   "id": "cb27afa5",
   "metadata": {
    "scrolled": false
   },
   "outputs": [
    {
     "data": {
      "text/plain": [
       "[<matplotlib.lines.Line2D at 0x2479ba8bc40>]"
      ]
     },
     "execution_count": 151,
     "metadata": {},
     "output_type": "execute_result"
    },
    {
     "data": {
      "image/png": "[encoded data removed]",
      "text/plain": [
       "<Figure size 432x288 with 1 Axes>"
      ]
     },
     "metadata": {
      "needs_background": "light"
     },
     "output_type": "display_data"
    }
   ],
   "source": [
    "plt.plot(hepsi)"
   ]
  },
  {
   "cell_type": "code",
   "execution_count": 152,
   "id": "2b1e0600",
   "metadata": {},
   "outputs": [],
   "source": [
    "#np.savetxt(\"at10.csv\", hepsi, delimiter=',')"
   ]
  },
  {
   "cell_type": "code",
   "execution_count": 153,
   "id": "e14956fa",
   "metadata": {},
   "outputs": [],
   "source": [
    "def signaltonoise(a, axis=0, ddof=0):\n",
    "    a = np.asanyarray(a)\n",
    "    m = a.mean(axis)\n",
    "    sd = a.std(axis=axis, ddof=ddof)\n",
    "    return np.where(sd == 0, 0, m/sd)"
   ]
  },
  {
   "cell_type": "code",
   "execution_count": 154,
   "id": "50544213",
   "metadata": {},
   "outputs": [],
   "source": [
    "def power_spectrum(mean_list, fps, hz_bottom, hz_top):\n",
    "    sampling_rate = fps\n",
    "    raw_signal = np.squeeze(mean_list) \n",
    "    normalized_signal = raw_signal - np.mean(raw_signal)\n",
    "    normalized_signal = normalized_signal / np.std(normalized_signal)\n",
    "    med_signal = medfilt(normalized_signal, 5)\n",
    "    nyq = 0.5 * sampling_rate\n",
    "    low = hz_bottom / nyq\n",
    "    high = hz_top / nyq\n",
    "\n",
    "    b, a = butter(3, [low, high], btype = 'band')\n",
    "    filtered_signal = lfilter(b, a, med_signal)\n",
    "    window = np.hamming(len(filtered_signal))\n",
    "    windowed_signal = filtered_signal * window\n",
    "    def nextpow(x):\n",
    "        return 2 ** math.ceil(math.log2(x))\n",
    "\n",
    "    NFFT = nextpow(len(windowed_signal) * sampling_rate)\n",
    "    freqDomain = np.fft.fft(windowed_signal, NFFT)\n",
    "    conj = np.conjugate(freqDomain)\n",
    "\n",
    "    powerSpectrum = np.multiply(freqDomain, conj) / NFFT\n",
    "    powerSpectrum = np.real(powerSpectrum)\n",
    "    return powerSpectrum"
   ]
  },
  {
   "cell_type": "code",
   "execution_count": 155,
   "id": "b90fe6c3",
   "metadata": {},
   "outputs": [],
   "source": [
    "def pre_train(array):\n",
    "    snr = signaltonoise(array)\n",
    "    std = np.std(array)\n",
    "    ps = power_spectrum(array, fps, 1.0, 2.75)\n",
    "    powerSNR = signaltonoise(ps)\n",
    "    powerSTD = np.std(ps)\n",
    "    dx = np.diff(array)\n",
    "    dxSNR = signaltonoise(dx)\n",
    "    dxSTD = np.std(dx)\n",
    "     \n",
    "    return {\"name\" : name,\n",
    "            \"SNR\" : float(snr), \n",
    "            \"STD\" : std, \n",
    "            \"powerSNR\" : float(powerSNR), \n",
    "            \"powerSTD\" : powerSTD, \n",
    "            \"dxSNR\" : float(dxSNR), \n",
    "            \"dxSTD\" : dxSTD,\n",
    "            \"isReal\" : 1}\n"
   ]
  },
  {
   "cell_type": "code",
   "execution_count": 156,
   "id": "c70f3065",
   "metadata": {},
   "outputs": [],
   "source": [
    "new_row = pre_train(array=hepsi)"
   ]
  },
  {
   "cell_type": "code",
   "execution_count": 157,
   "id": "ac96e9f3",
   "metadata": {},
   "outputs": [
    {
     "data": {
      "text/plain": [
       "{'name': 'Esra_11',\n",
       " 'SNR': 26.7299084306514,\n",
       " 'STD': 4.339825268459249,\n",
       " 'powerSNR': 0.2868328457997303,\n",
       " 'powerSTD': 0.00034806785933530975,\n",
       " 'dxSNR': -0.008138312610790783,\n",
       " 'dxSTD': 0.5703995953122725,\n",
       " 'isReal': 1}"
      ]
     },
     "execution_count": 157,
     "metadata": {},
     "output_type": "execute_result"
    }
   ],
   "source": [
    "new_row"
   ]
  },
  {
   "cell_type": "code",
   "execution_count": 158,
   "id": "33df9133",
   "metadata": {},
   "outputs": [
    {
     "name": "stderr",
     "output_type": "stream",
     "text": [
      "C:\\Users\\ahmet\\AppData\\Local\\Temp\\ipykernel_14944\\1728607618.py:1: FutureWarning: The frame.append method is deprecated and will be removed from pandas in a future version. Use pandas.concat instead.\n",
      "  df = df.append(new_row, ignore_index=True)\n"
     ]
    },
    {
     "data": {
      "text/html": [
       "<div>\n",
       "<style scoped>\n",
       "    .dataframe tbody tr th:only-of-type {\n",
       "        vertical-align: middle;\n",
       "    }\n",
       "\n",
       "    .dataframe tbody tr th {\n",
       "        vertical-align: top;\n",
       "    }\n",
       "\n",
       "    .dataframe thead th {\n",
       "        text-align: right;\n",
       "    }\n",
       "</style>\n",
       "<table border=\"1\" class=\"dataframe\">\n",
       "  <thead>\n",
       "    <tr style=\"text-align: right;\">\n",
       "      <th></th>\n",
       "      <th>name</th>\n",
       "      <th>SNR</th>\n",
       "      <th>STD</th>\n",
       "      <th>powerSNR</th>\n",
       "      <th>powerSTD</th>\n",
       "      <th>dxSNR</th>\n",
       "      <th>dxSTD</th>\n",
       "      <th>isReal</th>\n",
       "    </tr>\n",
       "  </thead>\n",
       "  <tbody>\n",
       "    <tr>\n",
       "      <th>0</th>\n",
       "      <td>Esra_1</td>\n",
       "      <td>24.505708</td>\n",
       "      <td>6.292199</td>\n",
       "      <td>0.250347</td>\n",
       "      <td>0.00201</td>\n",
       "      <td>-0.01927</td>\n",
       "      <td>0.60668</td>\n",
       "      <td>1</td>\n",
       "    </tr>\n",
       "    <tr>\n",
       "      <th>1</th>\n",
       "      <td>Esra_2</td>\n",
       "      <td>30.506503</td>\n",
       "      <td>4.687045</td>\n",
       "      <td>0.2395</td>\n",
       "      <td>0.000121</td>\n",
       "      <td>0.033542</td>\n",
       "      <td>0.341471</td>\n",
       "      <td>1</td>\n",
       "    </tr>\n",
       "    <tr>\n",
       "      <th>2</th>\n",
       "      <td>Esra_3</td>\n",
       "      <td>84.422152</td>\n",
       "      <td>1.683961</td>\n",
       "      <td>0.239083</td>\n",
       "      <td>0.001457</td>\n",
       "      <td>-0.00224</td>\n",
       "      <td>0.366607</td>\n",
       "      <td>1</td>\n",
       "    </tr>\n",
       "    <tr>\n",
       "      <th>3</th>\n",
       "      <td>Esra_4</td>\n",
       "      <td>96.453915</td>\n",
       "      <td>1.408518</td>\n",
       "      <td>0.243875</td>\n",
       "      <td>0.002095</td>\n",
       "      <td>-0.012803</td>\n",
       "      <td>0.343105</td>\n",
       "      <td>1</td>\n",
       "    </tr>\n",
       "    <tr>\n",
       "      <th>4</th>\n",
       "      <td>Esra_5</td>\n",
       "      <td>58.850559</td>\n",
       "      <td>2.350135</td>\n",
       "      <td>0.224527</td>\n",
       "      <td>0.000526</td>\n",
       "      <td>-0.011331</td>\n",
       "      <td>0.306056</td>\n",
       "      <td>1</td>\n",
       "    </tr>\n",
       "    <tr>\n",
       "      <th>5</th>\n",
       "      <td>Esra_6</td>\n",
       "      <td>127.321246</td>\n",
       "      <td>1.099448</td>\n",
       "      <td>0.265267</td>\n",
       "      <td>0.002148</td>\n",
       "      <td>-0.009184</td>\n",
       "      <td>0.309139</td>\n",
       "      <td>1</td>\n",
       "    </tr>\n",
       "    <tr>\n",
       "      <th>6</th>\n",
       "      <td>Esra_7</td>\n",
       "      <td>95.865</td>\n",
       "      <td>1.506816</td>\n",
       "      <td>0.257095</td>\n",
       "      <td>0.00055</td>\n",
       "      <td>-0.028334</td>\n",
       "      <td>0.267591</td>\n",
       "      <td>1</td>\n",
       "    </tr>\n",
       "    <tr>\n",
       "      <th>7</th>\n",
       "      <td>Esra_8</td>\n",
       "      <td>97.236704</td>\n",
       "      <td>1.464426</td>\n",
       "      <td>0.24036</td>\n",
       "      <td>0.001375</td>\n",
       "      <td>-0.018673</td>\n",
       "      <td>0.259286</td>\n",
       "      <td>1</td>\n",
       "    </tr>\n",
       "    <tr>\n",
       "      <th>8</th>\n",
       "      <td>Esra_9</td>\n",
       "      <td>102.787606</td>\n",
       "      <td>1.569953</td>\n",
       "      <td>0.242229</td>\n",
       "      <td>0.001603</td>\n",
       "      <td>0.001045</td>\n",
       "      <td>0.431196</td>\n",
       "      <td>1</td>\n",
       "    </tr>\n",
       "    <tr>\n",
       "      <th>9</th>\n",
       "      <td>Esra_10</td>\n",
       "      <td>98.181252</td>\n",
       "      <td>1.35396</td>\n",
       "      <td>0.259275</td>\n",
       "      <td>0.001051</td>\n",
       "      <td>-0.019801</td>\n",
       "      <td>0.274047</td>\n",
       "      <td>1</td>\n",
       "    </tr>\n",
       "    <tr>\n",
       "      <th>10</th>\n",
       "      <td>Esra_11</td>\n",
       "      <td>26.729908</td>\n",
       "      <td>4.339825</td>\n",
       "      <td>0.286833</td>\n",
       "      <td>0.000348</td>\n",
       "      <td>-0.008138</td>\n",
       "      <td>0.5704</td>\n",
       "      <td>1</td>\n",
       "    </tr>\n",
       "  </tbody>\n",
       "</table>\n",
       "</div>"
      ],
      "text/plain": [
       "       name         SNR       STD  powerSNR  powerSTD     dxSNR     dxSTD  \\\n",
       "0    Esra_1   24.505708  6.292199  0.250347   0.00201  -0.01927   0.60668   \n",
       "1    Esra_2   30.506503  4.687045    0.2395  0.000121  0.033542  0.341471   \n",
       "2    Esra_3   84.422152  1.683961  0.239083  0.001457  -0.00224  0.366607   \n",
       "3    Esra_4   96.453915  1.408518  0.243875  0.002095 -0.012803  0.343105   \n",
       "4    Esra_5   58.850559  2.350135  0.224527  0.000526 -0.011331  0.306056   \n",
       "5    Esra_6  127.321246  1.099448  0.265267  0.002148 -0.009184  0.309139   \n",
       "6    Esra_7      95.865  1.506816  0.257095   0.00055 -0.028334  0.267591   \n",
       "7    Esra_8   97.236704  1.464426   0.24036  0.001375 -0.018673  0.259286   \n",
       "8    Esra_9  102.787606  1.569953  0.242229  0.001603  0.001045  0.431196   \n",
       "9   Esra_10   98.181252   1.35396  0.259275  0.001051 -0.019801  0.274047   \n",
       "10  Esra_11   26.729908  4.339825  0.286833  0.000348 -0.008138    0.5704   \n",
       "\n",
       "   isReal  \n",
       "0       1  \n",
       "1       1  \n",
       "2       1  \n",
       "3       1  \n",
       "4       1  \n",
       "5       1  \n",
       "6       1  \n",
       "7       1  \n",
       "8       1  \n",
       "9       1  \n",
       "10      1  "
      ]
     },
     "execution_count": 158,
     "metadata": {},
     "output_type": "execute_result"
    }
   ],
   "source": [
    "df = df.append(new_row, ignore_index=True)\n",
    "df"
   ]
  },
  {
   "cell_type": "code",
   "execution_count": 159,
   "id": "8779f29c",
   "metadata": {},
   "outputs": [],
   "source": [
    "df.to_csv('esra.csv', index=False)"
   ]
  },
  {
   "cell_type": "code",
   "execution_count": null,
   "id": "900aa690",
   "metadata": {},
   "outputs": [],
   "source": []
  }
 ],
 "metadata": {
  "kernelspec": {
   "display_name": "Python 3 (ipykernel)",
   "language": "python",
   "name": "python3"
  },
  "language_info": {
   "codemirror_mode": {
    "name": "ipython",
    "version": 3
   },
   "file_extension": ".py",
   "mimetype": "text/x-python",
   "name": "python",
   "nbconvert_exporter": "python",
   "pygments_lexer": "ipython3",
   "version": "3.9.12"
  }
 },
 "nbformat": 4,
 "nbformat_minor": 5
}
